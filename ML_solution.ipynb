{
 "cells": [
  {
   "cell_type": "markdown",
   "metadata": {},
   "source": [
    "## 1. Логистическая регрессия "
   ]
  },
  {
   "cell_type": "code",
   "execution_count": 1,
   "metadata": {},
   "outputs": [
    {
     "name": "stdout",
     "output_type": "stream",
     "text": [
      "Accuracy (Logistic Regression): 0.9623223532003966\n",
      "Precision (Logistic Regression): 0.9643066995557898\n",
      "Recall (Logistic Regression): 0.9609596679902497\n",
      "F1-Score (Logistic Regression): 0.9625422259388425\n"
     ]
    }
   ],
   "source": [
    "import pandas as pd\n",
    "import re\n",
    "from sklearn.model_selection import train_test_split\n",
    "from sklearn.feature_extraction.text import TfidfVectorizer\n",
    "from sklearn.linear_model import LogisticRegression\n",
    "from sklearn.metrics import accuracy_score, precision_recall_fscore_support\n",
    "\n",
    "# Загрузка данных\n",
    "data = pd.read_csv('./data/train.csv')\n",
    "\n",
    "# Функция предобработки текста\n",
    "def preprocess_text(text):\n",
    "    text = text.lower()  # Приведение к нижнему регистру\n",
    "    text = re.sub(r'\\W', ' ', text)  # Удаление специальных символов\n",
    "    text = re.sub(r'\\s+', ' ', text)  # Удаление лишних пробелов\n",
    "    return text.strip()\n",
    "\n",
    "# Применение функции предобработки\n",
    "data['Processed_Description'] = data['Description'].apply(preprocess_text)\n",
    "\n",
    "# Векторизация текста\n",
    "tfidf_vectorizer = TfidfVectorizer(max_features=5000)\n",
    "X = tfidf_vectorizer.fit_transform(data['Processed_Description'])\n",
    "y = data['Label'].values\n",
    "\n",
    "# Разделение данных на обучающую и тестовую выборки\n",
    "X_train, X_test, y_train, y_test = train_test_split(X, y, test_size=0.2, random_state=42)\n",
    "\n",
    "# Обучение модели логистической регрессии \n",
    "# (добавляем параллелизм с помощью n_jobs=-1, используем все доступные ядра процессора для параллельной работы. \n",
    "# Меняем алгоритм, используемый для оптимизации, более подходящий для большого набора данных)\n",
    "lr_model = LogisticRegression(max_iter=1000, random_state=42, n_jobs=-1, solver = 'sag')\n",
    "lr_model.fit(X_train, y_train)\n",
    "\n",
    "# Предсказание на тестовой выборке\n",
    "y_pred_lr = lr_model.predict(X_test)\n",
    "\n",
    "# Расчёт метрик\n",
    "accuracy_lr = accuracy_score(y_test, y_pred_lr)\n",
    "precision_lr, recall_lr, f1_lr, _ = precision_recall_fscore_support(y_test, y_pred_lr, average='macro')\n",
    "\n",
    "print(f\"Accuracy (Logistic Regression): {accuracy_lr}\")\n",
    "print(f\"Precision (Logistic Regression): {precision_lr}\")\n",
    "print(f\"Recall (Logistic Regression): {recall_lr}\")\n",
    "print(f\"F1-Score (Logistic Regression): {f1_lr}\")"
   ]
  },
  {
   "cell_type": "markdown",
   "metadata": {},
   "source": [
    "## 2. Наивный байесовский алгоритм"
   ]
  },
  {
   "cell_type": "code",
   "execution_count": 3,
   "metadata": {},
   "outputs": [
    {
     "name": "stdout",
     "output_type": "stream",
     "text": [
      "Accuracy (Naive Bayes): 0.9423818442216592\n",
      "Precision (Naive Bayes): 0.9464542261962015\n",
      "Recall (Naive Bayes): 0.9416636580851345\n",
      "F1-Score (Naive Bayes): 0.9437281181690276\n"
     ]
    }
   ],
   "source": [
    "from sklearn.naive_bayes import MultinomialNB\n",
    "\n",
    "# Обучение модели\n",
    "nb_model = MultinomialNB()\n",
    "nb_model.fit(X_train, y_train)\n",
    "\n",
    "# Предсказание на тестовой выборке\n",
    "y_pred_nb = nb_model.predict(X_test)\n",
    "\n",
    "# Расчёт метрик\n",
    "accuracy_nb = accuracy_score(y_test, y_pred_nb)\n",
    "precision_nb, recall_nb, f1_nb, _ = precision_recall_fscore_support(y_test, y_pred_nb, average='macro')\n",
    "\n",
    "print(f\"Accuracy (Naive Bayes): {accuracy_nb}\")\n",
    "print(f\"Precision (Naive Bayes): {precision_nb}\")\n",
    "print(f\"Recall (Naive Bayes): {recall_nb}\")\n",
    "print(f\"F1-Score (Naive Bayes): {f1_nb}\")"
   ]
  },
  {
   "cell_type": "markdown",
   "metadata": {},
   "source": [
    "## 3. Метод опорных векторов"
   ]
  },
  {
   "cell_type": "code",
   "execution_count": 4,
   "metadata": {},
   "outputs": [
    {
     "name": "stdout",
     "output_type": "stream",
     "text": [
      "Accuracy (SVM): 0.9668392640740333\n",
      "Precision (SVM): 0.9684446967618542\n",
      "Recall (SVM): 0.9660815641499675\n",
      "F1-Score (SVM): 0.9672255624577506\n"
     ]
    }
   ],
   "source": [
    "from sklearn.svm import SVC\n",
    "\n",
    "# Обучение модели SVM\n",
    "svm_model = SVC(kernel='linear', C=1.0, random_state=42)\n",
    "svm_model.fit(X_train, y_train)\n",
    "\n",
    "# Предсказание на тестовой выборке\n",
    "y_pred_svm = svm_model.predict(X_test)\n",
    "\n",
    "# Расчёт метрик для SVM\n",
    "accuracy_svm = accuracy_score(y_test, y_pred_svm)\n",
    "precision_svm, recall_svm, f1_svm, _ = precision_recall_fscore_support(y_test, y_pred_svm, average='macro')\n",
    "\n",
    "print(f\"Accuracy (SVM): {accuracy_svm}\")\n",
    "print(f\"Precision (SVM): {precision_svm}\")\n",
    "print(f\"Recall (SVM): {recall_svm}\")\n",
    "print(f\"F1-Score (SVM): {f1_svm}\")"
   ]
  },
  {
   "cell_type": "markdown",
   "metadata": {},
   "source": [
    "## 4. Случайный лес"
   ]
  },
  {
   "cell_type": "code",
   "execution_count": 5,
   "metadata": {},
   "outputs": [
    {
     "name": "stdout",
     "output_type": "stream",
     "text": [
      "Accuracy (Random Forest): 0.9659579156108846\n",
      "Precision (Random Forest): 0.970031676433625\n",
      "Recall (Random Forest): 0.963211701230934\n",
      "F1-Score (Random Forest): 0.9664102636093996\n"
     ]
    }
   ],
   "source": [
    "from sklearn.ensemble import RandomForestClassifier\n",
    "\n",
    "# Обучение модели случайного леса (для ускорения можно уменьшить число деревьев)\n",
    "rf_model = RandomForestClassifier(n_estimators=100, random_state=42, n_jobs=-1)\n",
    "rf_model.fit(X_train, y_train)\n",
    "\n",
    "# Предсказание на тестовой выборке\n",
    "y_pred_rf = rf_model.predict(X_test)\n",
    "\n",
    "# Расчёт метрик для случайного леса\n",
    "accuracy_rf = accuracy_score(y_test, y_pred_rf)\n",
    "precision_rf, recall_rf, f1_rf, _ = precision_recall_fscore_support(y_test, y_pred_rf, average='macro')\n",
    "\n",
    "print(f\"Accuracy (Random Forest): {accuracy_rf}\")\n",
    "print(f\"Precision (Random Forest): {precision_rf}\")\n",
    "print(f\"Recall (Random Forest): {recall_rf}\")\n",
    "print(f\"F1-Score (Random Forest): {f1_rf}\")"
   ]
  },
  {
   "cell_type": "markdown",
   "metadata": {},
   "source": [
    "## 5. Градиентный бустинг"
   ]
  },
  {
   "cell_type": "code",
   "execution_count": 6,
   "metadata": {},
   "outputs": [
    {
     "name": "stdout",
     "output_type": "stream",
     "text": [
      "Accuracy (Gradient Boosting): 0.9535088685689105\n",
      "Precision (Gradient Boosting): 0.9577865699443346\n",
      "Recall (Gradient Boosting): 0.9510645023618062\n",
      "F1-Score (Gradient Boosting): 0.9542555538411515\n"
     ]
    }
   ],
   "source": [
    "from sklearn.ensemble import GradientBoostingClassifier\n",
    "\n",
    "# Обучение модели градиентного бустинга\n",
    "gb_model = GradientBoostingClassifier(n_estimators=100, learning_rate=1.0, random_state=42)\n",
    "gb_model.fit(X_train, y_train)\n",
    "\n",
    "# Предсказание на тестовой выборке\n",
    "y_pred_gb = gb_model.predict(X_test)\n",
    "\n",
    "# Расчёт метрик для градиентного бустинга\n",
    "accuracy_gb = accuracy_score(y_test, y_pred_gb)\n",
    "precision_gb, recall_gb, f1_gb, _ = precision_recall_fscore_support(y_test, y_pred_gb, average='macro')\n",
    "\n",
    "print(f\"Accuracy (Gradient Boosting): {accuracy_gb}\")\n",
    "print(f\"Precision (Gradient Boosting): {precision_gb}\")\n",
    "print(f\"Recall (Gradient Boosting): {recall_gb}\")\n",
    "print(f\"F1-Score (Gradient Boosting): {f1_gb}\")"
   ]
  },
  {
   "cell_type": "markdown",
   "metadata": {},
   "source": [
    "## 6. XGBoost"
   ]
  },
  {
   "cell_type": "code",
   "execution_count": 7,
   "metadata": {},
   "outputs": [
    {
     "name": "stdout",
     "output_type": "stream",
     "text": [
      "Accuracy (XGBoost): 0.9706951636003085\n",
      "Precision (XGBoost): 0.9725626074535048\n",
      "Recall (XGBoost): 0.9694491765556488\n",
      "F1-Score (XGBoost): 0.970965531326612\n"
     ]
    }
   ],
   "source": [
    "import xgboost as xgb\n",
    "\n",
    "# Обучение модели XGBoost\n",
    "xgb_model = xgb.XGBClassifier(n_estimators=100, learning_rate=1.0, use_label_encoder=False, eval_metric='mlogloss')\n",
    "xgb_model.fit(X_train, y_train)\n",
    "\n",
    "# Предсказание на тестовой выборке\n",
    "y_pred_xgb = xgb_model.predict(X_test)\n",
    "\n",
    "# Расчёт метрик\n",
    "accuracy_xgb = accuracy_score(y_test, y_pred_xgb)\n",
    "precision_xgb, recall_xgb, f1_xgb, _ = precision_recall_fscore_support(y_test, y_pred_xgb, average='macro')\n",
    "\n",
    "print(f\"Accuracy (XGBoost): {accuracy_xgb}\")\n",
    "print(f\"Precision (XGBoost): {precision_xgb}\")\n",
    "print(f\"Recall (XGBoost): {recall_xgb}\")\n",
    "print(f\"F1-Score (XGBoost): {f1_xgb}\")"
   ]
  }
 ],
 "metadata": {
  "kernelspec": {
   "display_name": "Python 3",
   "language": "python",
   "name": "python3"
  },
  "language_info": {
   "codemirror_mode": {
    "name": "ipython",
    "version": 3
   },
   "file_extension": ".py",
   "mimetype": "text/x-python",
   "name": "python",
   "nbconvert_exporter": "python",
   "pygments_lexer": "ipython3",
   "version": "3.11.4"
  }
 },
 "nbformat": 4,
 "nbformat_minor": 2
}
